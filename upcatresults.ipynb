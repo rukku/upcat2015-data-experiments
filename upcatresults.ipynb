{
 "metadata": {
  "name": "",
  "signature": "sha256:e0062d63a350ff2a1a93b2e1fb0b77f5c6569d324be0ad4bea879f9988d3fe99"
 },
 "nbformat": 3,
 "nbformat_minor": 0,
 "worksheets": [
  {
   "cells": [
    {
     "cell_type": "code",
     "collapsed": false,
     "input": [
      "import pandas as pd\n"
     ],
     "language": "python",
     "metadata": {},
     "outputs": [],
     "prompt_number": 1
    },
    {
     "cell_type": "code",
     "collapsed": false,
     "input": [
      "%matplotlib inline"
     ],
     "language": "python",
     "metadata": {},
     "outputs": [],
     "prompt_number": 2
    },
    {
     "cell_type": "code",
     "collapsed": false,
     "input": [
      "upcat_data = pd.read_csv(\"./passers.csv\")\n",
      "upcat_data[:5]"
     ],
     "language": "python",
     "metadata": {},
     "outputs": [
      {
       "html": [
        "<div style=\"max-height:1000px;max-width:1500px;overflow:auto;\">\n",
        "<table border=\"1\" class=\"dataframe\">\n",
        "  <thead>\n",
        "    <tr style=\"text-align: right;\">\n",
        "      <th></th>\n",
        "      <th>Name</th>\n",
        "      <th>Campus</th>\n",
        "      <th>Course</th>\n",
        "    </tr>\n",
        "  </thead>\n",
        "  <tbody>\n",
        "    <tr>\n",
        "      <th>0</th>\n",
        "      <td>        AALA, ANJILA BIANCA LAO</td>\n",
        "      <td>    MANILA</td>\n",
        "      <td>     BS INDUSTRIAL PHARMACY (5 YRS)</td>\n",
        "    </tr>\n",
        "    <tr>\n",
        "      <th>1</th>\n",
        "      <td>        AALA, IRMA RUTH PALUBON</td>\n",
        "      <td>         \u00a0</td>\n",
        "      <td>                     **Pending Case</td>\n",
        "    </tr>\n",
        "    <tr>\n",
        "      <th>2</th>\n",
        "      <td>  AALA, JADE GABRIELLE MAGLUNOB</td>\n",
        "      <td>   VISAYAS</td>\n",
        "      <td> DEGREE PROGRAM WITH AVAILABLE SLOT</td>\n",
        "    </tr>\n",
        "    <tr>\n",
        "      <th>3</th>\n",
        "      <td> ABABA, ETHEL MAY GRACE LACERNA</td>\n",
        "      <td>   VISAYAS</td>\n",
        "      <td>                      BA PSYCHOLOGY</td>\n",
        "    </tr>\n",
        "    <tr>\n",
        "      <th>4</th>\n",
        "      <td>  ABACA, HANZ CHRISTIAN CALILAP</td>\n",
        "      <td> LOS BA\u00d1OS</td>\n",
        "      <td>                BS COMPUTER SCIENCE</td>\n",
        "    </tr>\n",
        "  </tbody>\n",
        "</table>\n",
        "</div>"
       ],
       "metadata": {},
       "output_type": "pyout",
       "prompt_number": 3,
       "text": [
        "                             Name     Campus  \\\n",
        "0         AALA, ANJILA BIANCA LAO     MANILA   \n",
        "1         AALA, IRMA RUTH PALUBON          \u00a0   \n",
        "2   AALA, JADE GABRIELLE MAGLUNOB    VISAYAS   \n",
        "3  ABABA, ETHEL MAY GRACE LACERNA    VISAYAS   \n",
        "4   ABACA, HANZ CHRISTIAN CALILAP  LOS BA\u00d1OS   \n",
        "\n",
        "                               Course  \n",
        "0      BS INDUSTRIAL PHARMACY (5 YRS)  \n",
        "1                      **Pending Case  \n",
        "2  DEGREE PROGRAM WITH AVAILABLE SLOT  \n",
        "3                       BA PSYCHOLOGY  \n",
        "4                 BS COMPUTER SCIENCE  "
       ]
      }
     ],
     "prompt_number": 3
    },
    {
     "cell_type": "code",
     "collapsed": false,
     "input": [
      "course_data = upcat_data[['Course']]\n",
      "course_data[:10]"
     ],
     "language": "python",
     "metadata": {},
     "outputs": [
      {
       "html": [
        "<div style=\"max-height:1000px;max-width:1500px;overflow:auto;\">\n",
        "<table border=\"1\" class=\"dataframe\">\n",
        "  <thead>\n",
        "    <tr style=\"text-align: right;\">\n",
        "      <th></th>\n",
        "      <th>Course</th>\n",
        "    </tr>\n",
        "  </thead>\n",
        "  <tbody>\n",
        "    <tr>\n",
        "      <th>0</th>\n",
        "      <td>                    BS INDUSTRIAL PHARMACY (5 YRS)</td>\n",
        "    </tr>\n",
        "    <tr>\n",
        "      <th>1</th>\n",
        "      <td>                                    **Pending Case</td>\n",
        "    </tr>\n",
        "    <tr>\n",
        "      <th>2</th>\n",
        "      <td>                DEGREE PROGRAM WITH AVAILABLE SLOT</td>\n",
        "    </tr>\n",
        "    <tr>\n",
        "      <th>3</th>\n",
        "      <td>                                     BA PSYCHOLOGY</td>\n",
        "    </tr>\n",
        "    <tr>\n",
        "      <th>4</th>\n",
        "      <td>                               BS COMPUTER SCIENCE</td>\n",
        "    </tr>\n",
        "    <tr>\n",
        "      <th>5</th>\n",
        "      <td>                DEGREE PROGRAM WITH AVAILABLE SLOT</td>\n",
        "    </tr>\n",
        "    <tr>\n",
        "      <th>6</th>\n",
        "      <td> BA EUROPEAN LANGUAGESWaitlisted: BS COMPUTER S...</td>\n",
        "    </tr>\n",
        "    <tr>\n",
        "      <th>7</th>\n",
        "      <td>                      BS DEVELOPMENT COMMUNICATION</td>\n",
        "    </tr>\n",
        "    <tr>\n",
        "      <th>8</th>\n",
        "      <td>                             BS BUSINESS ECONOMICS</td>\n",
        "    </tr>\n",
        "    <tr>\n",
        "      <th>9</th>\n",
        "      <td>                        BA BROADCAST COMMUNICATION</td>\n",
        "    </tr>\n",
        "  </tbody>\n",
        "</table>\n",
        "</div>"
       ],
       "metadata": {},
       "output_type": "pyout",
       "prompt_number": 4,
       "text": [
        "                                              Course\n",
        "0                     BS INDUSTRIAL PHARMACY (5 YRS)\n",
        "1                                     **Pending Case\n",
        "2                 DEGREE PROGRAM WITH AVAILABLE SLOT\n",
        "3                                      BA PSYCHOLOGY\n",
        "4                                BS COMPUTER SCIENCE\n",
        "5                 DEGREE PROGRAM WITH AVAILABLE SLOT\n",
        "6  BA EUROPEAN LANGUAGESWaitlisted: BS COMPUTER S...\n",
        "7                       BS DEVELOPMENT COMMUNICATION\n",
        "8                              BS BUSINESS ECONOMICS\n",
        "9                         BA BROADCAST COMMUNICATION"
       ]
      }
     ],
     "prompt_number": 4
    },
    {
     "cell_type": "code",
     "collapsed": false,
     "input": [
      "course_series = upcat_data['Course'].astype('category')"
     ],
     "language": "python",
     "metadata": {},
     "outputs": [],
     "prompt_number": 5
    },
    {
     "cell_type": "code",
     "collapsed": false,
     "input": [
      "course_series.value_counts()[:10]"
     ],
     "language": "python",
     "metadata": {},
     "outputs": [
      {
       "metadata": {},
       "output_type": "pyout",
       "prompt_number": 6,
       "text": [
        "DEGREE PROGRAM WITH AVAILABLE SLOT    3114\n",
        "**Pending Case                        1538\n",
        "BS BIOLOGY                             904\n",
        "BS COMPUTER SCIENCE                    742\n",
        "BS MATHEMATICS                         341\n",
        "BS MANAGEMENT                          321\n",
        "BA POLITICAL SCIENCE                   241\n",
        "BS CHEMICAL ENGINEERING (5 YRS)        231\n",
        "BA PSYCHOLOGY                          223\n",
        "BS CIVIL ENGINEERING (5 YRS)           218\n",
        "dtype: int64"
       ]
      }
     ],
     "prompt_number": 6
    },
    {
     "cell_type": "code",
     "collapsed": false,
     "input": [
      "course_series.value_counts()[2:10].plot(kind='bar')"
     ],
     "language": "python",
     "metadata": {},
     "outputs": [
      {
       "metadata": {},
       "output_type": "pyout",
       "prompt_number": 7,
       "text": [
        "<matplotlib.axes._subplots.AxesSubplot at 0xc108da0>"
       ]
      },
      {
       "metadata": {},
       "output_type": "display_data",
       "png": "[encoded data removed]",
       "text": [
        "<matplotlib.figure.Figure at 0xc37ab38>"
       ]
      }
     ],
     "prompt_number": 7
    },
    {
     "cell_type": "code",
     "collapsed": false,
     "input": [
      "names = upcat_data['Name'].astype('category')\n",
      "names[:10]"
     ],
     "language": "python",
     "metadata": {},
     "outputs": [
      {
       "metadata": {},
       "output_type": "pyout",
       "prompt_number": 8,
       "text": [
        "0            AALA, ANJILA BIANCA LAO\n",
        "1            AALA, IRMA RUTH PALUBON\n",
        "2      AALA, JADE GABRIELLE MAGLUNOB\n",
        "3     ABABA, ETHEL MAY GRACE LACERNA\n",
        "4      ABACA, HANZ CHRISTIAN CALILAP\n",
        "5      ABACAN, AUSTIN SYMON BULACLAC\n",
        "6     ABACAN, JOHN CHRISTIAN BARITUA\n",
        "7    ABAD, ANGELICA SARAH ESTANISLAO\n",
        "8        ABAD, BIANCA DENISE MENDOZA\n",
        "9       ABAD, DUSTIN PAOLO SALVANERA\n",
        "Name: Name, dtype: category\n",
        "Categories (14988, object): [AALA, ANJILA BIANCA LAO < AALA, IRMA RUTH PALUBON < AALA, JADE GABRIELLE MAGLUNOB < ABABA, ETHEL MAY GRACE LACERNA ... ZULUETA, PIA YSABEL BANAS < ZULUETA, SANDRA MAE CARAAN < ZUNIGA, CINDERELLA COJAS < ZUNIGA, DARYLL KENDRICK CABIGAO]"
       ]
      }
     ],
     "prompt_number": 8
    },
    {
     "cell_type": "code",
     "collapsed": false,
     "input": [
      "upcat_data.insert(loc=0, column='Familyname', value='')\n",
      "upcat_data[:5]"
     ],
     "language": "python",
     "metadata": {},
     "outputs": [
      {
       "html": [
        "<div style=\"max-height:1000px;max-width:1500px;overflow:auto;\">\n",
        "<table border=\"1\" class=\"dataframe\">\n",
        "  <thead>\n",
        "    <tr style=\"text-align: right;\">\n",
        "      <th></th>\n",
        "      <th>Familyname</th>\n",
        "      <th>Name</th>\n",
        "      <th>Campus</th>\n",
        "      <th>Course</th>\n",
        "    </tr>\n",
        "  </thead>\n",
        "  <tbody>\n",
        "    <tr>\n",
        "      <th>0</th>\n",
        "      <td> </td>\n",
        "      <td>        AALA, ANJILA BIANCA LAO</td>\n",
        "      <td>    MANILA</td>\n",
        "      <td>     BS INDUSTRIAL PHARMACY (5 YRS)</td>\n",
        "    </tr>\n",
        "    <tr>\n",
        "      <th>1</th>\n",
        "      <td> </td>\n",
        "      <td>        AALA, IRMA RUTH PALUBON</td>\n",
        "      <td>         \u00a0</td>\n",
        "      <td>                     **Pending Case</td>\n",
        "    </tr>\n",
        "    <tr>\n",
        "      <th>2</th>\n",
        "      <td> </td>\n",
        "      <td>  AALA, JADE GABRIELLE MAGLUNOB</td>\n",
        "      <td>   VISAYAS</td>\n",
        "      <td> DEGREE PROGRAM WITH AVAILABLE SLOT</td>\n",
        "    </tr>\n",
        "    <tr>\n",
        "      <th>3</th>\n",
        "      <td> </td>\n",
        "      <td> ABABA, ETHEL MAY GRACE LACERNA</td>\n",
        "      <td>   VISAYAS</td>\n",
        "      <td>                      BA PSYCHOLOGY</td>\n",
        "    </tr>\n",
        "    <tr>\n",
        "      <th>4</th>\n",
        "      <td> </td>\n",
        "      <td>  ABACA, HANZ CHRISTIAN CALILAP</td>\n",
        "      <td> LOS BA\u00d1OS</td>\n",
        "      <td>                BS COMPUTER SCIENCE</td>\n",
        "    </tr>\n",
        "  </tbody>\n",
        "</table>\n",
        "</div>"
       ],
       "metadata": {},
       "output_type": "pyout",
       "prompt_number": 9,
       "text": [
        "  Familyname                            Name     Campus  \\\n",
        "0                    AALA, ANJILA BIANCA LAO     MANILA   \n",
        "1                    AALA, IRMA RUTH PALUBON          \u00a0   \n",
        "2              AALA, JADE GABRIELLE MAGLUNOB    VISAYAS   \n",
        "3             ABABA, ETHEL MAY GRACE LACERNA    VISAYAS   \n",
        "4              ABACA, HANZ CHRISTIAN CALILAP  LOS BA\u00d1OS   \n",
        "\n",
        "                               Course  \n",
        "0      BS INDUSTRIAL PHARMACY (5 YRS)  \n",
        "1                      **Pending Case  \n",
        "2  DEGREE PROGRAM WITH AVAILABLE SLOT  \n",
        "3                       BA PSYCHOLOGY  \n",
        "4                 BS COMPUTER SCIENCE  "
       ]
      }
     ],
     "prompt_number": 9
    },
    {
     "cell_type": "code",
     "collapsed": false,
     "input": [
      "def process_names(text):\n",
      "    familyname, name = text.split(',')\n",
      "    return pd.Series([familyname, name])"
     ],
     "language": "python",
     "metadata": {},
     "outputs": [],
     "prompt_number": 10
    },
    {
     "cell_type": "code",
     "collapsed": false,
     "input": [
      "upcat_data[['Familyname', 'Name']] = upcat_data.Name.apply(process_names)\n",
      "upcat_data[:5]"
     ],
     "language": "python",
     "metadata": {},
     "outputs": [
      {
       "html": [
        "<div style=\"max-height:1000px;max-width:1500px;overflow:auto;\">\n",
        "<table border=\"1\" class=\"dataframe\">\n",
        "  <thead>\n",
        "    <tr style=\"text-align: right;\">\n",
        "      <th></th>\n",
        "      <th>Familyname</th>\n",
        "      <th>Name</th>\n",
        "      <th>Campus</th>\n",
        "      <th>Course</th>\n",
        "    </tr>\n",
        "  </thead>\n",
        "  <tbody>\n",
        "    <tr>\n",
        "      <th>0</th>\n",
        "      <td>  AALA</td>\n",
        "      <td>        ANJILA BIANCA LAO</td>\n",
        "      <td>    MANILA</td>\n",
        "      <td>     BS INDUSTRIAL PHARMACY (5 YRS)</td>\n",
        "    </tr>\n",
        "    <tr>\n",
        "      <th>1</th>\n",
        "      <td>  AALA</td>\n",
        "      <td>        IRMA RUTH PALUBON</td>\n",
        "      <td>         \u00a0</td>\n",
        "      <td>                     **Pending Case</td>\n",
        "    </tr>\n",
        "    <tr>\n",
        "      <th>2</th>\n",
        "      <td>  AALA</td>\n",
        "      <td>  JADE GABRIELLE MAGLUNOB</td>\n",
        "      <td>   VISAYAS</td>\n",
        "      <td> DEGREE PROGRAM WITH AVAILABLE SLOT</td>\n",
        "    </tr>\n",
        "    <tr>\n",
        "      <th>3</th>\n",
        "      <td> ABABA</td>\n",
        "      <td>  ETHEL MAY GRACE LACERNA</td>\n",
        "      <td>   VISAYAS</td>\n",
        "      <td>                      BA PSYCHOLOGY</td>\n",
        "    </tr>\n",
        "    <tr>\n",
        "      <th>4</th>\n",
        "      <td> ABACA</td>\n",
        "      <td>   HANZ CHRISTIAN CALILAP</td>\n",
        "      <td> LOS BA\u00d1OS</td>\n",
        "      <td>                BS COMPUTER SCIENCE</td>\n",
        "    </tr>\n",
        "  </tbody>\n",
        "</table>\n",
        "</div>"
       ],
       "metadata": {},
       "output_type": "pyout",
       "prompt_number": 11,
       "text": [
        "  Familyname                      Name     Campus  \\\n",
        "0       AALA         ANJILA BIANCA LAO     MANILA   \n",
        "1       AALA         IRMA RUTH PALUBON          \u00a0   \n",
        "2       AALA   JADE GABRIELLE MAGLUNOB    VISAYAS   \n",
        "3      ABABA   ETHEL MAY GRACE LACERNA    VISAYAS   \n",
        "4      ABACA    HANZ CHRISTIAN CALILAP  LOS BA\u00d1OS   \n",
        "\n",
        "                               Course  \n",
        "0      BS INDUSTRIAL PHARMACY (5 YRS)  \n",
        "1                      **Pending Case  \n",
        "2  DEGREE PROGRAM WITH AVAILABLE SLOT  \n",
        "3                       BA PSYCHOLOGY  \n",
        "4                 BS COMPUTER SCIENCE  "
       ]
      }
     ],
     "prompt_number": 11
    },
    {
     "cell_type": "code",
     "collapsed": false,
     "input": [
      "familynames = upcat_data['Familyname'].astype('category')\n",
      "familynames[:5]"
     ],
     "language": "python",
     "metadata": {},
     "outputs": [
      {
       "metadata": {},
       "output_type": "pyout",
       "prompt_number": 12,
       "text": [
        "0     AALA\n",
        "1     AALA\n",
        "2     AALA\n",
        "3    ABABA\n",
        "4    ABACA\n",
        "Name: Familyname, dtype: category\n",
        "Categories (8465, object): [AALA < ABABA < ABACA < ABACAN ... ZUBELDIA < ZULLA < ZULUETA < ZUNIGA]"
       ]
      }
     ],
     "prompt_number": 12
    },
    {
     "cell_type": "code",
     "collapsed": false,
     "input": [
      "familynames.value_counts()"
     ],
     "language": "python",
     "metadata": {},
     "outputs": [
      {
       "metadata": {},
       "output_type": "pyout",
       "prompt_number": 23,
       "text": [
        "REYES        95\n",
        "TAN          94\n",
        "CRUZ         89\n",
        "DELA CRUZ    83\n",
        "SANTOS       80\n",
        "GARCIA       80\n",
        "LIM          73\n",
        "RAMOS        68\n",
        "MENDOZA      65\n",
        "FERNANDEZ    54\n",
        "CHUA         52\n",
        "DE GUZMAN    51\n",
        "BAUTISTA     50\n",
        "GONZALES     49\n",
        "ONG          46\n",
        "...\n",
        "SIGNEY      1\n",
        "SIGLOS      1\n",
        "LARRACAS    1\n",
        "LASQUITE    1\n",
        "LASALETA    1\n",
        "LASAM       1\n",
        "LASARA      1\n",
        "SIERVO      1\n",
        "LASCO       1\n",
        "LASCUNA     1\n",
        "SIENES      1\n",
        "LASPINAS    1\n",
        "LASQUERO    1\n",
        "LASQUETE    1\n",
        "JUMSALI     1\n",
        "Length: 8465, dtype: int64"
       ]
      }
     ],
     "prompt_number": 23
    },
    {
     "cell_type": "code",
     "collapsed": false,
     "input": [
      "familynames.value_counts()[:10].plot(kind='bar')"
     ],
     "language": "python",
     "metadata": {},
     "outputs": [
      {
       "metadata": {},
       "output_type": "pyout",
       "prompt_number": 13,
       "text": [
        "<matplotlib.axes._subplots.AxesSubplot at 0x10dd3da0>"
       ]
      },
      {
       "metadata": {},
       "output_type": "display_data",
       "png": "[encoded data removed]",
       "text": [
        "<matplotlib.figure.Figure at 0x10de1940>"
       ]
      }
     ],
     "prompt_number": 13
    },
    {
     "cell_type": "code",
     "collapsed": false,
     "input": [
      "familynames.value_counts()[:10].plot(kind='bar')"
     ],
     "language": "python",
     "metadata": {},
     "outputs": []
    },
    {
     "cell_type": "code",
     "collapsed": false,
     "input": [],
     "language": "python",
     "metadata": {},
     "outputs": []
    }
   ],
   "metadata": {}
  }
 ]
}
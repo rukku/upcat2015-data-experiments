{
 "metadata": {
  "name": "",
  "signature": "sha256:c55c0d86450928a23ad9c394bca537fa171694aa3e0d29ba4afd63e649147d7e"
 },
 "nbformat": 3,
 "nbformat_minor": 0,
 "worksheets": [
  {
   "cells": [
    {
     "cell_type": "code",
     "collapsed": false,
     "input": [
      "import pandas as pd\n"
     ],
     "language": "python",
     "metadata": {},
     "outputs": [],
     "prompt_number": 1
    },
    {
     "cell_type": "code",
     "collapsed": false,
     "input": [
      "%matplotlib inline"
     ],
     "language": "python",
     "metadata": {},
     "outputs": [],
     "prompt_number": 2
    },
    {
     "cell_type": "code",
     "collapsed": false,
     "input": [
      "upcat_data = pd.read_csv(\"./passers.csv\")\n",
      "upcat_data[:5]"
     ],
     "language": "python",
     "metadata": {},
     "outputs": [
      {
       "html": [
        "<div style=\"max-height:1000px;max-width:1500px;overflow:auto;\">\n",
        "<table border=\"1\" class=\"dataframe\">\n",
        "  <thead>\n",
        "    <tr style=\"text-align: right;\">\n",
        "      <th></th>\n",
        "      <th>Name</th>\n",
        "      <th>Campus</th>\n",
        "      <th>Course</th>\n",
        "    </tr>\n",
        "  </thead>\n",
        "  <tbody>\n",
        "    <tr>\n",
        "      <th>0</th>\n",
        "      <td>        AALA, ANJILA BIANCA LAO</td>\n",
        "      <td>    MANILA</td>\n",
        "      <td>     BS INDUSTRIAL PHARMACY (5 YRS)</td>\n",
        "    </tr>\n",
        "    <tr>\n",
        "      <th>1</th>\n",
        "      <td>        AALA, IRMA RUTH PALUBON</td>\n",
        "      <td>         \u00a0</td>\n",
        "      <td>                     **Pending Case</td>\n",
        "    </tr>\n",
        "    <tr>\n",
        "      <th>2</th>\n",
        "      <td>  AALA, JADE GABRIELLE MAGLUNOB</td>\n",
        "      <td>   VISAYAS</td>\n",
        "      <td> DEGREE PROGRAM WITH AVAILABLE SLOT</td>\n",
        "    </tr>\n",
        "    <tr>\n",
        "      <th>3</th>\n",
        "      <td> ABABA, ETHEL MAY GRACE LACERNA</td>\n",
        "      <td>   VISAYAS</td>\n",
        "      <td>                      BA PSYCHOLOGY</td>\n",
        "    </tr>\n",
        "    <tr>\n",
        "      <th>4</th>\n",
        "      <td>  ABACA, HANZ CHRISTIAN CALILAP</td>\n",
        "      <td> LOS BA\u00d1OS</td>\n",
        "      <td>                BS COMPUTER SCIENCE</td>\n",
        "    </tr>\n",
        "  </tbody>\n",
        "</table>\n",
        "</div>"
       ],
       "metadata": {},
       "output_type": "pyout",
       "prompt_number": 3,
       "text": [
        "                             Name     Campus  \\\n",
        "0         AALA, ANJILA BIANCA LAO     MANILA   \n",
        "1         AALA, IRMA RUTH PALUBON          \u00a0   \n",
        "2   AALA, JADE GABRIELLE MAGLUNOB    VISAYAS   \n",
        "3  ABABA, ETHEL MAY GRACE LACERNA    VISAYAS   \n",
        "4   ABACA, HANZ CHRISTIAN CALILAP  LOS BA\u00d1OS   \n",
        "\n",
        "                               Course  \n",
        "0      BS INDUSTRIAL PHARMACY (5 YRS)  \n",
        "1                      **Pending Case  \n",
        "2  DEGREE PROGRAM WITH AVAILABLE SLOT  \n",
        "3                       BA PSYCHOLOGY  \n",
        "4                 BS COMPUTER SCIENCE  "
       ]
      }
     ],
     "prompt_number": 3
    },
    {
     "cell_type": "code",
     "collapsed": false,
     "input": [
      "course_data = upcat_data[['Course']]\n",
      "course_data[:10]"
     ],
     "language": "python",
     "metadata": {},
     "outputs": [
      {
       "html": [
        "<div style=\"max-height:1000px;max-width:1500px;overflow:auto;\">\n",
        "<table border=\"1\" class=\"dataframe\">\n",
        "  <thead>\n",
        "    <tr style=\"text-align: right;\">\n",
        "      <th></th>\n",
        "      <th>Course</th>\n",
        "    </tr>\n",
        "  </thead>\n",
        "  <tbody>\n",
        "    <tr>\n",
        "      <th>0</th>\n",
        "      <td>                    BS INDUSTRIAL PHARMACY (5 YRS)</td>\n",
        "    </tr>\n",
        "    <tr>\n",
        "      <th>1</th>\n",
        "      <td>                                    **Pending Case</td>\n",
        "    </tr>\n",
        "    <tr>\n",
        "      <th>2</th>\n",
        "      <td>                DEGREE PROGRAM WITH AVAILABLE SLOT</td>\n",
        "    </tr>\n",
        "    <tr>\n",
        "      <th>3</th>\n",
        "      <td>                                     BA PSYCHOLOGY</td>\n",
        "    </tr>\n",
        "    <tr>\n",
        "      <th>4</th>\n",
        "      <td>                               BS COMPUTER SCIENCE</td>\n",
        "    </tr>\n",
        "    <tr>\n",
        "      <th>5</th>\n",
        "      <td>                DEGREE PROGRAM WITH AVAILABLE SLOT</td>\n",
        "    </tr>\n",
        "    <tr>\n",
        "      <th>6</th>\n",
        "      <td> BA EUROPEAN LANGUAGESWaitlisted: BS COMPUTER S...</td>\n",
        "    </tr>\n",
        "    <tr>\n",
        "      <th>7</th>\n",
        "      <td>                      BS DEVELOPMENT COMMUNICATION</td>\n",
        "    </tr>\n",
        "    <tr>\n",
        "      <th>8</th>\n",
        "      <td>                             BS BUSINESS ECONOMICS</td>\n",
        "    </tr>\n",
        "    <tr>\n",
        "      <th>9</th>\n",
        "      <td>                        BA BROADCAST COMMUNICATION</td>\n",
        "    </tr>\n",
        "  </tbody>\n",
        "</table>\n",
        "</div>"
       ],
       "metadata": {},
       "output_type": "pyout",
       "prompt_number": 4,
       "text": [
        "                                              Course\n",
        "0                     BS INDUSTRIAL PHARMACY (5 YRS)\n",
        "1                                     **Pending Case\n",
        "2                 DEGREE PROGRAM WITH AVAILABLE SLOT\n",
        "3                                      BA PSYCHOLOGY\n",
        "4                                BS COMPUTER SCIENCE\n",
        "5                 DEGREE PROGRAM WITH AVAILABLE SLOT\n",
        "6  BA EUROPEAN LANGUAGESWaitlisted: BS COMPUTER S...\n",
        "7                       BS DEVELOPMENT COMMUNICATION\n",
        "8                              BS BUSINESS ECONOMICS\n",
        "9                         BA BROADCAST COMMUNICATION"
       ]
      }
     ],
     "prompt_number": 4
    },
    {
     "cell_type": "code",
     "collapsed": false,
     "input": [
      "#This is a comment"
     ],
     "language": "python",
     "metadata": {},
     "outputs": [],
     "prompt_number": 5
    },
    {
     "cell_type": "code",
     "collapsed": false,
     "input": [
      "course_series = upcat_data['Course'].astype('category')"
     ],
     "language": "python",
     "metadata": {},
     "outputs": [],
     "prompt_number": 6
    },
    {
     "cell_type": "code",
     "collapsed": false,
     "input": [
      "course_series.value_counts()[:10]"
     ],
     "language": "python",
     "metadata": {},
     "outputs": [
      {
       "metadata": {},
       "output_type": "pyout",
       "prompt_number": 7,
       "text": [
        "DEGREE PROGRAM WITH AVAILABLE SLOT    3114\n",
        "**Pending Case                        1538\n",
        "BS BIOLOGY                             904\n",
        "BS COMPUTER SCIENCE                    742\n",
        "BS MATHEMATICS                         341\n",
        "BS MANAGEMENT                          321\n",
        "BA POLITICAL SCIENCE                   241\n",
        "BS CHEMICAL ENGINEERING (5 YRS)        231\n",
        "BA PSYCHOLOGY                          223\n",
        "BS CIVIL ENGINEERING (5 YRS)           218\n",
        "dtype: int64"
       ]
      }
     ],
     "prompt_number": 7
    },
    {
     "cell_type": "code",
     "collapsed": false,
     "input": [
      "course_series.value_counts()[2:10].plot(kind='bar')"
     ],
     "language": "python",
     "metadata": {},
     "outputs": [
      {
       "metadata": {},
       "output_type": "pyout",
       "prompt_number": 8,
       "text": [
        "<matplotlib.axes._subplots.AxesSubplot at 0xc331ef0>"
       ]
      },
      {
       "metadata": {},
       "output_type": "display_data",
       "png": "[encoded data removed]",
       "text": [
        "<matplotlib.figure.Figure at 0xc343a58>"
       ]
      }
     ],
     "prompt_number": 8
    },
    {
     "cell_type": "code",
     "collapsed": false,
     "input": [],
     "language": "python",
     "metadata": {},
     "outputs": []
    }
   ],
   "metadata": {}
  }
 ]
}